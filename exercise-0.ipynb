{
 "cells": [
  {
   "cell_type": "markdown",
   "metadata": {},
   "source": [
    "# Python"
   ]
  },
  {
   "cell_type": "markdown",
   "metadata": {},
   "source": [
    "This notebook contains relevant information about Python that will be helpful during the whole class. \n",
    "\n",
    "## Jupyter is a Python terminal divided in cells\n",
    "\n",
    "\n",
    "This cell is a *Markdown* cell (for texts like notes, manuals, etc.)\n",
    "You can edit this cell with a double click. `Ctrl + Enter` executes the cell, i.e. annotations for headlines, bullet lists and the like will be evaluated and the formatted result will be shown.\n",
    "\n",
    "The cell following the **\"Hello World!\"** headline is a *Code* cell\n",
    "It consists of an input `[ ]:` and an output.\n",
    "The execution of the entered code is started with `Ctrl + Enter`, just like the Markdown cell type.\n",
    "\n",
    "If the square brackets of the input cell are empty, the cell has not been executed yet.\n",
    "A star (`[*]:`) shows that the code of the cell is currently running.\n",
    "After the computation finished, the star is replaced with a number (e.g. `[5]:`) and the output (if any is produced) appears directly below the cell.\n",
    "\n",
    "The cells can be executed multiple times and in any order. The actual program flow is thus not defined by the cell order but by the numbers in the square brackets."
   ]
  },
  {
   "cell_type": "markdown",
   "metadata": {},
   "source": [
    "### Hello, World!\n",
    "\n",
    "As usual, first thing we need is a hello world!"
   ]
  },
  {
   "cell_type": "code",
   "execution_count": 1,
   "metadata": {},
   "outputs": [
    {
     "name": "stdout",
     "output_type": "stream",
     "text": [
      "Hello, World!\n"
     ]
    }
   ],
   "source": [
    "print('Hello, World!')"
   ]
  },
  {
   "cell_type": "markdown",
   "metadata": {},
   "source": [
    "What can we see from this first Python code line?\n",
    "\n",
    "- `print` is a key word in Python\n",
    "- Strings can be defined just by using quotes\n",
    "- We don't need to create any main function or class to run code in Python"
   ]
  },
  {
   "cell_type": "markdown",
   "metadata": {},
   "source": [
    "### Defining variables"
   ]
  },
  {
   "cell_type": "markdown",
   "metadata": {},
   "source": [
    "In python you do not need to declare the type of the variable. The interpreter will infer them dynamically.\n",
    "In Python you can find the type by using `type()`. Defining variables is just as easy as using `=`. All variables have a type analogue to Java or any other programming language."
   ]
  },
  {
   "cell_type": "code",
   "execution_count": 2,
   "metadata": {},
   "outputs": [],
   "source": [
    "a = 4   # I'm an integer\n",
    "b = 5.2 # I'm a float"
   ]
  },
  {
   "cell_type": "code",
   "execution_count": 3,
   "metadata": {},
   "outputs": [
    {
     "name": "stdout",
     "output_type": "stream",
     "text": [
      "3\n"
     ]
    }
   ],
   "source": [
    "variable = \"I'm a variable\" # This is a string\n",
    "\n",
    "c, d, e = 1, 2, 3 # this is the same as saying c = 1, d =  2, e = 3\n",
    "\n",
    "print(e)"
   ]
  },
  {
   "cell_type": "code",
   "execution_count": 4,
   "metadata": {},
   "outputs": [],
   "source": [
    "# Now it's your turn to find out, what is the type of variable, a and b\n"
   ]
  },
  {
   "cell_type": "markdown",
   "metadata": {},
   "source": [
    "What about math opperations, what type should come out of summing __a__ and __b__"
   ]
  },
  {
   "cell_type": "code",
   "execution_count": 5,
   "metadata": {},
   "outputs": [
    {
     "name": "stdout",
     "output_type": "stream",
     "text": [
      "9.2\n"
     ]
    }
   ],
   "source": [
    "# let's try it out!\n",
    "\n",
    "print(a + b) # Mixing integer and float numbers results in float type"
   ]
  },
  {
   "cell_type": "markdown",
   "metadata": {},
   "source": [
    "What about substraction and so on?"
   ]
  },
  {
   "cell_type": "code",
   "execution_count": 6,
   "metadata": {},
   "outputs": [],
   "source": [
    "# It's your turn to compute these :)\n",
    "\n",
    "# substraction\n",
    "\n",
    "# multiplication\n",
    "\n",
    "# division\n",
    "\n",
    "# modulo (of integers)"
   ]
  },
  {
   "cell_type": "markdown",
   "metadata": {},
   "source": [
    "__Question__: What is the resulting type of a multiplication and what is the resulting type of a division? Are the results always of the same type?"
   ]
  },
  {
   "cell_type": "markdown",
   "metadata": {},
   "source": [
    "### Control flow"
   ]
  },
  {
   "cell_type": "markdown",
   "metadata": {},
   "source": [
    "In Python each statement is defined in a line. Sometimes, you can use a semicolon (`;`) to define several statement in a line. \n",
    "\n",
    "Other programming languages have brackets `{ ... }` to define a block, in Python we have identation and colon (`:`) in order to open the block."
   ]
  },
  {
   "cell_type": "code",
   "execution_count": 7,
   "metadata": {},
   "outputs": [
    {
     "name": "stdout",
     "output_type": "stream",
     "text": [
      "x is equal to 5\n",
      "end of the if\n"
     ]
    }
   ],
   "source": [
    "# if statement - what will be the output?\n",
    "\n",
    "x = 5\n",
    "if x < 5:\n",
    "    print('x is smaller than 5')\n",
    "elif x == 5:\n",
    "    print('x is equal to 5')\n",
    "else:\n",
    "    print('x is greater than 5')\n",
    "print('end of the if')"
   ]
  },
  {
   "cell_type": "markdown",
   "metadata": {},
   "source": [
    "Like most programming languages Python supports `while` and `for` loops. This allows you to execute the same code block iteravely. Within a loop you can either exit the loop early by calling `break`, or skip to the next iterations by calling `continue`."
   ]
  },
  {
   "cell_type": "code",
   "execution_count": 8,
   "metadata": {},
   "outputs": [
    {
     "name": "stdout",
     "output_type": "stream",
     "text": [
      "0\n",
      "1\n",
      "2\n",
      "3\n",
      "4\n"
     ]
    }
   ],
   "source": [
    "# What can you say about this loop?\n",
    "\n",
    "count = 0\n",
    "while count < 5: # Here begins my block\n",
    "    print(count)\n",
    "    count += 1"
   ]
  },
  {
   "cell_type": "code",
   "execution_count": 9,
   "metadata": {},
   "outputs": [
    {
     "name": "stdout",
     "output_type": "stream",
     "text": [
      "0\n",
      "1\n",
      "2\n",
      "3\n",
      "4\n"
     ]
    }
   ],
   "source": [
    "for count in range(5):\n",
    "    print(count)"
   ]
  },
  {
   "cell_type": "markdown",
   "metadata": {},
   "source": [
    "__Question__: What do we have to change for counting up to 5?<br>\n",
    "__Task__: We want to sum up all numbers from 1 to 100. How can we implement this? (The result should be 5050.)"
   ]
  },
  {
   "cell_type": "code",
   "execution_count": null,
   "metadata": {},
   "outputs": [],
   "source": []
  },
  {
   "cell_type": "markdown",
   "metadata": {},
   "source": [
    "__Task__: We want now to sum up all numbers from 1 to 100 that are divisible by 3. (The result should be 1683.)"
   ]
  },
  {
   "cell_type": "code",
   "execution_count": null,
   "metadata": {},
   "outputs": [],
   "source": []
  },
  {
   "cell_type": "markdown",
   "metadata": {},
   "source": [
    "Loops can have `else` statements which are executed once the loop has finished, unless a `break` was called. We can now rewrite our earlier `while` loop to count up to 5."
   ]
  },
  {
   "cell_type": "code",
   "execution_count": 10,
   "metadata": {},
   "outputs": [
    {
     "name": "stdout",
     "output_type": "stream",
     "text": [
      "0\n",
      "1\n",
      "2\n",
      "3\n",
      "4\n",
      "5\n"
     ]
    }
   ],
   "source": [
    "count = 0\n",
    "while count < 5:\n",
    "    print(count)\n",
    "    count += 1\n",
    "else:\n",
    "    print(count)"
   ]
  },
  {
   "cell_type": "markdown",
   "metadata": {},
   "source": [
    "### Strings"
   ]
  },
  {
   "cell_type": "markdown",
   "metadata": {},
   "source": [
    "Let's focus on strings because this class will be mainly on how we handle strings and many fun things that we can make with text. Again as we saw in our *hello world* example, we need quote to create a string, whether single (`'`) or double (`\"`) quotes it's actually not important, but **don't mix them**. Strings are a sequence of characters that concatenated form a text. We can also have one character strings or an empty string."
   ]
  },
  {
   "cell_type": "code",
   "execution_count": 11,
   "metadata": {},
   "outputs": [],
   "source": [
    "first_str = 'Hello'\n",
    "second_str = 'World'\n",
    "empty_str = ''\n",
    "one_ch_str = '!'"
   ]
  },
  {
   "cell_type": "markdown",
   "metadata": {},
   "source": [
    "#### String operations"
   ]
  },
  {
   "cell_type": "code",
   "execution_count": 12,
   "metadata": {},
   "outputs": [
    {
     "name": "stdout",
     "output_type": "stream",
     "text": [
      "HelloWorld!\n"
     ]
    }
   ],
   "source": [
    "# Concatenation\n",
    "\n",
    "print(first_str +  second_str + one_ch_str)"
   ]
  },
  {
   "cell_type": "markdown",
   "metadata": {},
   "source": [
    "What's missing?"
   ]
  },
  {
   "cell_type": "code",
   "execution_count": 13,
   "metadata": {},
   "outputs": [
    {
     "name": "stdout",
     "output_type": "stream",
     "text": [
      "Hello World!\n"
     ]
    }
   ],
   "source": [
    "space_str = ' '\n",
    "print(first_str + space_str + second_str + one_ch_str)"
   ]
  },
  {
   "cell_type": "code",
   "execution_count": 14,
   "metadata": {},
   "outputs": [
    {
     "name": "stdout",
     "output_type": "stream",
     "text": [
      "Hello World!!!!!\n"
     ]
    }
   ],
   "source": [
    "# Repetition of strings\n",
    "\n",
    "print(first_str + space_str + second_str + (one_ch_str * 5))"
   ]
  },
  {
   "cell_type": "code",
   "execution_count": 15,
   "metadata": {},
   "outputs": [
    {
     "name": "stdout",
     "output_type": "stream",
     "text": [
      "Hello \n"
     ]
    }
   ],
   "source": [
    "greeting = first_str + space_str\n",
    "print(greeting)"
   ]
  },
  {
   "cell_type": "markdown",
   "metadata": {},
   "source": [
    "__Important__: We can also use ordinary \"arithmetic\" operations on strings. So keep in mind, that the operators are overloaded."
   ]
  },
  {
   "cell_type": "code",
   "execution_count": 16,
   "metadata": {},
   "outputs": [
    {
     "name": "stdout",
     "output_type": "stream",
     "text": [
      "Hello World\n"
     ]
    }
   ],
   "source": [
    "greeting += second_str\n",
    "print(greeting)"
   ]
  },
  {
   "cell_type": "markdown",
   "metadata": {},
   "source": [
    "__Question__: What is the problem with following instruction?"
   ]
  },
  {
   "cell_type": "code",
   "execution_count": 17,
   "metadata": {},
   "outputs": [
    {
     "ename": "TypeError",
     "evalue": "can only concatenate str (not \"int\") to str",
     "output_type": "error",
     "traceback": [
      "\u001b[1;31m---------------------------------------------------------------------------\u001b[0m",
      "\u001b[1;31mTypeError\u001b[0m                                 Traceback (most recent call last)",
      "Input \u001b[1;32mIn [17]\u001b[0m, in \u001b[0;36m<cell line: 2>\u001b[1;34m()\u001b[0m\n\u001b[0;32m      1\u001b[0m n \u001b[38;5;241m=\u001b[39m \u001b[38;5;241m5\u001b[39m\n\u001b[1;32m----> 2\u001b[0m \u001b[38;5;28mprint\u001b[39m(\u001b[38;5;124;43m'\u001b[39;49m\u001b[38;5;124;43mThe value of n is \u001b[39;49m\u001b[38;5;124;43m'\u001b[39;49m\u001b[43m \u001b[49m\u001b[38;5;241;43m+\u001b[39;49m\u001b[43m \u001b[49m\u001b[43mn\u001b[49m)\n",
      "\u001b[1;31mTypeError\u001b[0m: can only concatenate str (not \"int\") to str"
     ]
    }
   ],
   "source": [
    "n = 5\n",
    "print('The value of n is ' + n)"
   ]
  },
  {
   "cell_type": "markdown",
   "metadata": {},
   "source": [
    "__Question__: What do we have to change to get the desired outcome 'The value of n is 5'?"
   ]
  },
  {
   "cell_type": "code",
   "execution_count": 18,
   "metadata": {},
   "outputs": [
    {
     "name": "stdout",
     "output_type": "stream",
     "text": [
      "The value of n is 5\n"
     ]
    }
   ],
   "source": [
    "print('The value of n is '+str(n))"
   ]
  },
  {
   "cell_type": "markdown",
   "metadata": {},
   "source": [
    "We can index elements using [ ] as follows"
   ]
  },
  {
   "cell_type": "code",
   "execution_count": null,
   "metadata": {},
   "outputs": [],
   "source": [
    "print(first_str[3])"
   ]
  },
  {
   "cell_type": "code",
   "execution_count": 21,
   "metadata": {},
   "outputs": [
    {
     "name": "stdout",
     "output_type": "stream",
     "text": [
      "pneumo\n"
     ]
    }
   ],
   "source": [
    "long_str = 'pneumonoultramicroscopicsilicovolcanoconiosis'\n",
    "\n",
    "# Index ranges\n",
    "\n",
    "print(long_str[:6]) # == long_str[0:6]"
   ]
  },
  {
   "cell_type": "markdown",
   "metadata": {},
   "source": [
    "__Question__: How many characters does `long_str[:6]` contain? What can we implicate for the last index?\n",
    "\n",
    "Indexes begin with 0 and end with length -1. __Attention__: The last position (index) of a string is `long_str[-1] == long_str[len(long_str) - 1]`, but in a range the last index is exclusive."
   ]
  },
  {
   "cell_type": "code",
   "execution_count": null,
   "metadata": {},
   "outputs": [],
   "source": [
    "print(len(long_str))"
   ]
  },
  {
   "cell_type": "code",
   "execution_count": null,
   "metadata": {},
   "outputs": [],
   "source": [
    "print(long_str[30:-1])"
   ]
  },
  {
   "cell_type": "markdown",
   "metadata": {},
   "source": [
    "__Question__: We saw above the equivalence of `long_str[:6] == long_str[0:6]`. What is the equivalent expression to the following instruction?"
   ]
  },
  {
   "cell_type": "code",
   "execution_count": null,
   "metadata": {},
   "outputs": [],
   "source": [
    "print(long_str[30:])"
   ]
  },
  {
   "cell_type": "markdown",
   "metadata": {},
   "source": [
    "An overview of logical operators:\n",
    "\n",
    "- `==` equal\n",
    "- `!=` unequal\n",
    "- `<` less than\n",
    "- `>` greater than \n",
    "- `<=` less than or equal to\n",
    "- `>=` greater than or equal to"
   ]
  },
  {
   "cell_type": "markdown",
   "metadata": {},
   "source": [
    "### Important!\n",
    "- `==` means comparison\n",
    "- `=` means assignment"
   ]
  },
  {
   "cell_type": "code",
   "execution_count": null,
   "metadata": {},
   "outputs": [],
   "source": [
    "print(first_str[2] == first_str[3])\n",
    "print(first_str[1] == first_str[3])"
   ]
  },
  {
   "cell_type": "markdown",
   "metadata": {},
   "source": [
    "We can iterate over a string with a for loop."
   ]
  },
  {
   "cell_type": "code",
   "execution_count": 23,
   "metadata": {},
   "outputs": [
    {
     "data": {
      "text/plain": [
       "5"
      ]
     },
     "execution_count": 23,
     "metadata": {},
     "output_type": "execute_result"
    }
   ],
   "source": [
    "# Now is your turn to count how many \"o\" are there in long_str.\n",
    "\n",
    "long_str.find('o')"
   ]
  },
  {
   "cell_type": "markdown",
   "metadata": {},
   "source": [
    "#### String Methods"
   ]
  },
  {
   "cell_type": "markdown",
   "metadata": {},
   "source": [
    "There are several methods provided to support transforming, validating and in general working with strings. Here we have some of them."
   ]
  },
  {
   "cell_type": "code",
   "execution_count": 25,
   "metadata": {},
   "outputs": [],
   "source": [
    "text = 'This is text'\n",
    "nums = '123456'"
   ]
  },
  {
   "cell_type": "markdown",
   "metadata": {},
   "source": [
    "#### Find "
   ]
  },
  {
   "cell_type": "code",
   "execution_count": 26,
   "metadata": {},
   "outputs": [],
   "source": [
    "find_1 = text.find('is')\n",
    "find_2 = text.find('your')"
   ]
  },
  {
   "cell_type": "markdown",
   "metadata": {},
   "source": [
    "__Question__: What is the output of the find-method?\n",
    "\n",
    "__Task__: We want to get a user-friendly output if the words 'is' or 'your' can be found in the variable `text`, i.e.\n",
    "\n",
    "- 'is' found in 'This is text'\n",
    "- 'your' found in 'This is text'\n",
    "\n",
    "if both words could be found in the text or the negated form if the word wasn't found. Try to be most generic as possible, i.e. hard code as few as possible."
   ]
  },
  {
   "cell_type": "code",
   "execution_count": 32,
   "metadata": {},
   "outputs": [
    {
     "name": "stdout",
     "output_type": "stream",
     "text": [
      "'is' found in 'This is text'\n",
      "'your' not found in 'This is text'\n"
     ]
    }
   ],
   "source": [
    "def find_word(word, text):\n",
    "    if word in text:\n",
    "        return '\\''+word+'\\'' + ' found in '+'\\''+text+'\\''\n",
    "    else:\n",
    "        return '\\''+word+'\\'' + ' not found in '+'\\''+text+'\\''\n",
    "    \n",
    "print(find_word('is',text))\n",
    "print(find_word('your',text))"
   ]
  },
  {
   "cell_type": "markdown",
   "metadata": {},
   "source": [
    "####  Validation checks"
   ]
  },
  {
   "cell_type": "code",
   "execution_count": 33,
   "metadata": {},
   "outputs": [
    {
     "data": {
      "text/plain": [
       "False"
      ]
     },
     "execution_count": 33,
     "metadata": {},
     "output_type": "execute_result"
    }
   ],
   "source": [
    "text.isalpha()"
   ]
  },
  {
   "cell_type": "code",
   "execution_count": 34,
   "metadata": {},
   "outputs": [
    {
     "data": {
      "text/plain": [
       "False"
      ]
     },
     "execution_count": 34,
     "metadata": {},
     "output_type": "execute_result"
    }
   ],
   "source": [
    "text.isdigit()"
   ]
  },
  {
   "cell_type": "code",
   "execution_count": 35,
   "metadata": {},
   "outputs": [
    {
     "data": {
      "text/plain": [
       "True"
      ]
     },
     "execution_count": 35,
     "metadata": {},
     "output_type": "execute_result"
    }
   ],
   "source": [
    "nums.isdigit()"
   ]
  },
  {
   "cell_type": "markdown",
   "metadata": {},
   "source": [
    "#### Concatenation"
   ]
  },
  {
   "cell_type": "code",
   "execution_count": 36,
   "metadata": {},
   "outputs": [
    {
     "name": "stdout",
     "output_type": "stream",
     "text": [
      "This is text123456\n",
      "This is text 123456\n"
     ]
    }
   ],
   "source": [
    "print(''.join((text, nums)))\n",
    "print(' '.join((text, nums)))"
   ]
  },
  {
   "cell_type": "markdown",
   "metadata": {},
   "source": [
    "__Question__: How could we get the result of the instructions above in another way, which we already have seen?"
   ]
  },
  {
   "cell_type": "code",
   "execution_count": 37,
   "metadata": {},
   "outputs": [
    {
     "name": "stdout",
     "output_type": "stream",
     "text": [
      "This is text123456\n"
     ]
    }
   ],
   "source": [
    "print(text+str(nums))"
   ]
  },
  {
   "cell_type": "markdown",
   "metadata": {},
   "source": [
    "#### f-string"
   ]
  },
  {
   "cell_type": "code",
   "execution_count": 38,
   "metadata": {},
   "outputs": [
    {
     "name": "stdout",
     "output_type": "stream",
     "text": [
      "John Doe is 24 years old\n"
     ]
    }
   ],
   "source": [
    "fname = 'John'\n",
    "lname = 'Doe'\n",
    "age = 24\n",
    "print(f'{fname} {lname} is {age} years old')"
   ]
  },
  {
   "cell_type": "markdown",
   "metadata": {},
   "source": [
    "#### Case changing"
   ]
  },
  {
   "cell_type": "code",
   "execution_count": 39,
   "metadata": {},
   "outputs": [
    {
     "data": {
      "text/plain": [
       "'THIS IS TEXT'"
      ]
     },
     "execution_count": 39,
     "metadata": {},
     "output_type": "execute_result"
    }
   ],
   "source": [
    "text.upper()"
   ]
  },
  {
   "cell_type": "code",
   "execution_count": 40,
   "metadata": {},
   "outputs": [
    {
     "data": {
      "text/plain": [
       "'this is text'"
      ]
     },
     "execution_count": 40,
     "metadata": {},
     "output_type": "execute_result"
    }
   ],
   "source": [
    "text.lower()"
   ]
  },
  {
   "cell_type": "markdown",
   "metadata": {},
   "source": [
    "#### Split "
   ]
  },
  {
   "cell_type": "code",
   "execution_count": 41,
   "metadata": {},
   "outputs": [
    {
     "data": {
      "text/plain": [
       "['This', 'is', 'text']"
      ]
     },
     "execution_count": 41,
     "metadata": {},
     "output_type": "execute_result"
    }
   ],
   "source": [
    "text.split(' ')"
   ]
  },
  {
   "cell_type": "markdown",
   "metadata": {},
   "source": [
    "#### Substitution"
   ]
  },
  {
   "cell_type": "code",
   "execution_count": 42,
   "metadata": {},
   "outputs": [
    {
     "data": {
      "text/plain": [
       "'Thwas was text'"
      ]
     },
     "execution_count": 42,
     "metadata": {},
     "output_type": "execute_result"
    }
   ],
   "source": [
    "text.replace('is', 'was')"
   ]
  },
  {
   "cell_type": "markdown",
   "metadata": {},
   "source": [
    "#### Stripping"
   ]
  },
  {
   "cell_type": "code",
   "execution_count": 43,
   "metadata": {},
   "outputs": [
    {
     "name": "stdout",
     "output_type": "stream",
     "text": [
      "   This is text   \n"
     ]
    }
   ],
   "source": [
    "whitespace_text = f'   {text}   '\n",
    "print(whitespace_text)"
   ]
  },
  {
   "cell_type": "code",
   "execution_count": 44,
   "metadata": {},
   "outputs": [
    {
     "data": {
      "text/plain": [
       "'   This is text'"
      ]
     },
     "execution_count": 44,
     "metadata": {},
     "output_type": "execute_result"
    }
   ],
   "source": [
    "whitespace_text.rstrip()"
   ]
  },
  {
   "cell_type": "code",
   "execution_count": 45,
   "metadata": {},
   "outputs": [
    {
     "data": {
      "text/plain": [
       "'This is text   '"
      ]
     },
     "execution_count": 45,
     "metadata": {},
     "output_type": "execute_result"
    }
   ],
   "source": [
    "whitespace_text.lstrip()"
   ]
  },
  {
   "cell_type": "code",
   "execution_count": 46,
   "metadata": {},
   "outputs": [
    {
     "data": {
      "text/plain": [
       "'This is text'"
      ]
     },
     "execution_count": 46,
     "metadata": {},
     "output_type": "execute_result"
    }
   ],
   "source": [
    "whitespace_text.strip()"
   ]
  },
  {
   "cell_type": "markdown",
   "metadata": {},
   "source": [
    "## Functions and data structures\n",
    "\n",
    "For better readability and encapsulation of our code, we can define functions, that perform specific instructions. We can call functions with inputs and functions may return an output, but don't have to. A function is defined with the keyword `def` followed by the name of the function."
   ]
  },
  {
   "cell_type": "code",
   "execution_count": 47,
   "metadata": {},
   "outputs": [],
   "source": [
    "# Function without input and without output\n",
    "def hello_world():\n",
    "    print('Hello, World!')\n",
    "    \n",
    "# Function with input, but without output\n",
    "def print_my_input(my_input):\n",
    "    print(my_input)\n",
    "\n",
    "# Function with input and output\n",
    "def add(value1, value2):\n",
    "    return value1 + value2"
   ]
  },
  {
   "cell_type": "markdown",
   "metadata": {},
   "source": [
    "Defined functions can be called by typing the function name."
   ]
  },
  {
   "cell_type": "code",
   "execution_count": 48,
   "metadata": {},
   "outputs": [
    {
     "name": "stdout",
     "output_type": "stream",
     "text": [
      "Hello, World!\n",
      "Hello, Class!\n",
      "6\n"
     ]
    }
   ],
   "source": [
    "hello_world()\n",
    "print_my_input('Hello, Class!')\n",
    "print(add(2, 4))"
   ]
  },
  {
   "cell_type": "markdown",
   "metadata": {},
   "source": [
    "In Python you can create list of items. Lists are similar to arrays in other programming languages. We have seen a list earlier as the output of `string.split()`, but let's look deeper into them."
   ]
  },
  {
   "cell_type": "code",
   "execution_count": 49,
   "metadata": {},
   "outputs": [
    {
     "name": "stdout",
     "output_type": "stream",
     "text": [
      "These are my students: ['John', 'Mary', 'Anna', 'Tim', 'Bill']\n",
      "Here are their grades: [1, 1.7, 3.0, 1, 'Not in class']\n"
     ]
    }
   ],
   "source": [
    "students = ['John', 'Mary', 'Anna', 'Tim', 'Bill']\n",
    "grades = [1, 1.7, 3.0, 1, 'Not in class']\n",
    "print(f'These are my students: {students}')\n",
    "print(f'Here are their grades: {grades}')"
   ]
  },
  {
   "cell_type": "markdown",
   "metadata": {},
   "source": [
    "Lists can be indexed analogue to strings."
   ]
  },
  {
   "cell_type": "code",
   "execution_count": 50,
   "metadata": {},
   "outputs": [
    {
     "name": "stdout",
     "output_type": "stream",
     "text": [
      "This is the first student: John\n",
      "And this is their grade: 1\n"
     ]
    }
   ],
   "source": [
    "print(f'This is the first student: {students[0]}')\n",
    "print(f'And this is their grade: {grades[0]}')"
   ]
  },
  {
   "cell_type": "markdown",
   "metadata": {},
   "source": [
    "Lists in Python are like magic they may contain all kinds of objects together e.g. float, integers, strings even lists inside lists."
   ]
  },
  {
   "cell_type": "markdown",
   "metadata": {},
   "source": [
    "### List comprehensions"
   ]
  },
  {
   "cell_type": "markdown",
   "metadata": {},
   "source": [
    "In Python list comprehensions allow us to create complex lists in one line, instead of using a loop."
   ]
  },
  {
   "cell_type": "code",
   "execution_count": null,
   "metadata": {},
   "outputs": [],
   "source": [
    "# Instead of writing this\n",
    "lst = []\n",
    "for num in range(1, 10):\n",
    "    lst.append(num)\n",
    "print(lst)\n",
    "\n",
    "# We can write this\n",
    "lst = [num for num in range(1, 10)]\n",
    "print(lst)"
   ]
  },
  {
   "cell_type": "markdown",
   "metadata": {},
   "source": [
    "We can also apply f-strings or functions within list comprehensions."
   ]
  },
  {
   "cell_type": "code",
   "execution_count": null,
   "metadata": {},
   "outputs": [],
   "source": [
    "students = ['John', 'Mary', 'Anna', 'Tim', 'Bill']\n",
    "greetings = [f'Hello, {student}!' for student in students]\n",
    "print(greetings)\n",
    "\n",
    "def see_you(name):\n",
    "    return f'See you, {name}!'\n",
    "goodbye = [see_you(student) for student in students]\n",
    "print(goodbye)"
   ]
  },
  {
   "cell_type": "markdown",
   "metadata": {},
   "source": [
    "And we can nest loops in list comprehensions."
   ]
  },
  {
   "cell_type": "code",
   "execution_count": null,
   "metadata": {},
   "outputs": [],
   "source": [
    "nested_lst = [f'{a} + {b} = {a + b}' for b in range(1, 3) for a in range(1, 4)]\n",
    "print(nested_lst)"
   ]
  },
  {
   "cell_type": "markdown",
   "metadata": {},
   "source": [
    "__Task 1__: Consider the following `list_of_numbers`.\n",
    "\n",
    "1. Iterate over the list and print each number less than 15.\n",
    "2. Instead of iterating over the list, create another list and print the list as a whole.\n",
    "3. Try to use only one line for the creation of the list in subtask 2."
   ]
  },
  {
   "cell_type": "code",
   "execution_count": 56,
   "metadata": {},
   "outputs": [
    {
     "data": {
      "text/plain": [
       "[0, 1, 2, 3, 4, 5, 6, 7, 8, 9, 10, 11, 12, 13, 14]"
      ]
     },
     "execution_count": 56,
     "metadata": {},
     "output_type": "execute_result"
    }
   ],
   "source": [
    "list_of_numbers = [3, 7, 10, 23, 8, 15, 34, 12, 16, 5, 45, 63, 13, 9]\n",
    "\n",
    "# Code\n",
    "[list_of_numbers for list_of_numbers in range(15)]"
   ]
  },
  {
   "cell_type": "markdown",
   "metadata": {},
   "source": [
    "__Task 2__: Write a function, that expects two lists (of possibly unequal lengths) as input and that returns the intersection of both lists without duplicates (Hint: `set()`). The result of the function executed on the lists `[1, 2, 3]` and `[1, 3, 5, 6, 3]` should be `[1, 3]`."
   ]
  },
  {
   "cell_type": "code",
   "execution_count": 57,
   "metadata": {},
   "outputs": [],
   "source": [
    "def intersection(lst1, lst2):\n",
    "    return list(set(lst1) & set(lst2))"
   ]
  },
  {
   "cell_type": "markdown",
   "metadata": {},
   "source": [
    "### Dictionaries\n",
    "\n",
    "You can also create dictionaries (Map / HashMap in Java).\n",
    "Using this structure you can link elements. We call them keys and values.\n",
    "\n",
    "__Important!__ Keys must be unique. Otherwise you will overwrite the value of that key."
   ]
  },
  {
   "cell_type": "code",
   "execution_count": 58,
   "metadata": {},
   "outputs": [
    {
     "name": "stdout",
     "output_type": "stream",
     "text": [
      "{'a': 1, 'b': 2, 'c': 3}\n",
      "{'a': [1, 2, 3, 5], 'b': 2, 'c': 3}\n"
     ]
    }
   ],
   "source": [
    "dictionary = {}\n",
    "dictionary['a'] = 1\n",
    "dictionary['b'] = 2\n",
    "dictionary['c'] = 3\n",
    "print(dictionary)\n",
    "\n",
    "dictionary['a'] = [1, 2, 3, 5]\n",
    "print(dictionary)"
   ]
  },
  {
   "cell_type": "markdown",
   "metadata": {},
   "source": [
    "Again, it is possible to mix different structure types into a dictionary."
   ]
  },
  {
   "cell_type": "code",
   "execution_count": null,
   "metadata": {},
   "outputs": [],
   "source": [
    "my_dictionary = {}\n",
    "my_dictionary['d'] = dictionary\n",
    "my_dictionary['e'] = 5\n",
    "my_dictionary['f'] = 6\n",
    "print(my_dictionary)"
   ]
  },
  {
   "cell_type": "code",
   "execution_count": null,
   "metadata": {},
   "outputs": [],
   "source": [
    "print(my_dictionary['d']['a'])"
   ]
  },
  {
   "cell_type": "code",
   "execution_count": null,
   "metadata": {},
   "outputs": [],
   "source": [
    "my_number = my_dictionary['e']\n",
    "print(my_number)"
   ]
  },
  {
   "cell_type": "markdown",
   "metadata": {},
   "source": [
    "__Task 3__: Consider the long word from above. Use a dictionary to store the number of characters in this word, i.e. `output_dict['a']` should contain the number of characters \"a\" in the word. Encapsulate your code in a function, so that you can use it again and on other words."
   ]
  },
  {
   "cell_type": "code",
   "execution_count": 60,
   "metadata": {},
   "outputs": [
    {
     "data": {
      "text/plain": [
       "{'c': 15,\n",
       " 'm': 4,\n",
       " 'l': 9,\n",
       " 's': 18,\n",
       " 'e': 2,\n",
       " 'n': 1,\n",
       " 'p': 0,\n",
       " 'u': 3,\n",
       " 'o': 5,\n",
       " 'r': 11,\n",
       " 'i': 14,\n",
       " 'a': 12,\n",
       " 'v': 30,\n",
       " 't': 10}"
      ]
     },
     "execution_count": 60,
     "metadata": {},
     "output_type": "execute_result"
    }
   ],
   "source": [
    "long_word = 'pneumonoultramicroscopicsilicovolcanoconiosis'\n",
    "\n",
    "def load_dict(word):\n",
    "    output = {}\n",
    "    for i in set(word):\n",
    "        output[i] = word.find(i)\n",
    "    return output\n",
    "\n",
    "load_dict(long_word)"
   ]
  },
  {
   "cell_type": "markdown",
   "metadata": {},
   "source": [
    "## Type hints"
   ]
  },
  {
   "cell_type": "markdown",
   "metadata": {},
   "source": [
    "In the example below we expect two inputs of type `float` one parameter of type `bool` and we will output `str`."
   ]
  },
  {
   "cell_type": "code",
   "execution_count": null,
   "metadata": {},
   "outputs": [],
   "source": [
    "def subtract(a: float, b: float, reverse: bool) -> str:\n",
    "    if reverse:\n",
    "        res = b - a\n",
    "    else:\n",
    "        res = a - b\n",
    "    return f'Result is: {res}'"
   ]
  },
  {
   "cell_type": "markdown",
   "metadata": {},
   "source": [
    "Of course we can also use type hints for lists or dictionaries. These have to imported from Pythons typing module."
   ]
  },
  {
   "cell_type": "code",
   "execution_count": null,
   "metadata": {},
   "outputs": [],
   "source": [
    "from typing import Dict, List\n",
    "\n",
    "def add_or_extend(lst: List[str], items: Dict[str, List[str]], key: str) -> None:\n",
    "    if key in items:\n",
    "        items[key].extend(lst)\n",
    "    else:\n",
    "        items[key] = lst"
   ]
  },
  {
   "cell_type": "markdown",
   "metadata": {},
   "source": [
    "You can also use type hints for variables, though this is less common among Python programmers."
   ]
  },
  {
   "cell_type": "code",
   "execution_count": null,
   "metadata": {},
   "outputs": [],
   "source": [
    "a: int = 4\n",
    "b: float = 5.2"
   ]
  },
  {
   "cell_type": "markdown",
   "metadata": {},
   "source": [
    "And of course you can also use datatypes from additional libraries such as Numpys `array` or Pandas `DataFrame`. Sometimes you will also find the more generic `Mapping` or `Sequence` used as parent class of e.g. `Dict` or `List`.\n",
    "\n",
    "We encourage you to use type hints in all of the methods and functions that you are going to define in your homework submissions, as this makes it easier to understand and grade your code. All of the methods that will already be implemented or defined will also include type hints to help you with the exercise."
   ]
  },
  {
   "cell_type": "markdown",
   "metadata": {},
   "source": [
    "## Naming conventions"
   ]
  },
  {
   "cell_type": "markdown",
   "metadata": {},
   "source": [
    "While technically you can name variables, functions, and class names with any combination of Unicode characters, `lower_case_with_underscores` is the official naming convention for variable names, functions, and methods. Constants use `ALL_CAPITALS_WITH_UNDERSCORES`. And only class names are written in `CamelCase`.\n",
    "\n",
    "See [PEP 8 – Style Guide for Python Code](https://peps.python.org/pep-0008/) for more details."
   ]
  }
 ],
 "metadata": {
  "kernelspec": {
   "display_name": "nlp4web",
   "language": "python",
   "name": "nlp4web"
  },
  "language_info": {
   "codemirror_mode": {
    "name": "ipython",
    "version": 3
   },
   "file_extension": ".py",
   "mimetype": "text/x-python",
   "name": "python",
   "nbconvert_exporter": "python",
   "pygments_lexer": "ipython3",
   "version": "3.9.12"
  }
 },
 "nbformat": 4,
 "nbformat_minor": 4
}
